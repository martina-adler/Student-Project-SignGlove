{
  "metadata": {
    "kernelspec": {
      "language": "python",
      "display_name": "Python 3",
      "name": "python3"
    },
    "language_info": {
      "name": "python",
      "version": "3.10.12",
      "mimetype": "text/x-python",
      "codemirror_mode": {
        "name": "ipython",
        "version": 3
      },
      "pygments_lexer": "ipython3",
      "nbconvert_exporter": "python",
      "file_extension": ".py"
    },
    "kaggle": {
      "accelerator": "gpu",
      "dataSources": [
        {
          "sourceId": 37484,
          "sourceType": "datasetVersion",
          "datasetId": 29414
        }
      ],
      "dockerImageVersionId": 30558,
      "isInternetEnabled": false,
      "language": "python",
      "sourceType": "notebook",
      "isGpuEnabled": true
    },
    "colab": {
      "provenance": []
    }
  },
  "nbformat_minor": 0,
  "nbformat": 4,
  "cells": [
    {
      "cell_type": "markdown",
      "source": [
        "# Introduction\n",
        "This Jupiter Notebook implements a machine learning algorithm to detect sign language with a sensor glove. The glove uses 6 flex sensors, one for each finger and one for the wrist. Additionally, an IMU is placed on the top of the wrist.\n",
        "For the sign language signal processing and classification, we utilize the capabilities of a **Convolutional Neural Network (CNN) Autoencoder**.\n",
        "\n",
        "Our primary objective is to construct a robust Autoencoder model tailored for the task of detecting sign language."
      ],
      "metadata": {
        "id": "ublaRfP0Ebq3"
      }
    },
    {
      "cell_type": "markdown",
      "source": [
        "## Dataset Overview\n",
        "\n",
        "  The data is generated with the sensor glove connected to an ESP32 and an Arduino code implementing a fixed data collection for a specified time of 1.5 seconds for each sign. The data is collected in following order: XAcc,YAcc,ZAcc,XGyro,YGyro,ZGyro,Thumb,Index,Middle,Ring,Pinkie,Wrist, Wheras the finger and wrist data has to be calibrated before data generation.\n",
        "  The dataset is sampled at 100Hz, providing high-resolution data for in-depth analysis.\n",
        "\n",
        " The generated sign lanuge data set consists of five signs of Austrian Sign Language (österreichische Gebärdensprache): Bitte, Danke, Ich, Hallo und Baba. We categorized them into five classes with the same name.\n",
        "\n",
        "  We used a randomized order to collect data to ensure a variable and not prejudiced data generation. Therefore we generated a variable order of 10 signs out of the signs Bitte, Danke, Ich, Hallo, Tschüss.\n",
        "  The Arduino code generated the raw data where every 1.5 seconds is an empty line in between each singn. Then we copied the raw data out of the serial monitor in a text file.\n",
        "  \n",
        "  Afterwards, we separated each sign into corresponding text files named using the format SignName_Initial_Number (for example: hallo_m_1 for the first file with \"Hallo\" from Martina). To ensure the same data length for each file, we decided to cut the files at 37 lines. If a file had 38 lines, the last line was deleted to maintain uniformity of the data.\n",
        "\n",
        "> Some essential details about the Database:\n",
        ">\n",
        "> - **Number of Samples:** X\n",
        "> - **Number of Categories:** 5\n",
        "> - **Sampling Frequency:** 100Hz"
      ],
      "metadata": {
        "id": "5ZMYMCIKEbq7"
      }
    },
    {
      "cell_type": "markdown",
      "source": [
        "import relevant librarys"
      ],
      "metadata": {
        "id": "p6EM80DQ6fIn"
      }
    },
    {
      "cell_type": "code",
      "source": [
        "import numpy as np\n",
        "np.set_printoptions(suppress=True)\n",
        "import pandas as pd\n",
        "import matplotlib.pyplot as plt\n",
        "import seaborn as sns\n",
        "from scipy.io import arff\n",
        "from sklearn.model_selection import train_test_split\n",
        "import matplotlib\n",
        "matplotlib.rcParams[\"figure.figsize\"] = (6, 4)\n",
        "plt.style.use(\"ggplot\")\n",
        "import tensorflow as tf\n",
        "from tensorflow import data\n",
        "from tensorflow.keras.models import Model, Sequential\n",
        "from tensorflow.keras.callbacks import EarlyStopping\n",
        "from tensorflow.keras.metrics import mae\n",
        "from tensorflow.keras import layers\n",
        "from tensorflow import keras\n",
        "from sklearn.metrics import accuracy_score, recall_score, precision_score, confusion_matrix, f1_score, classification_report\n",
        "import os\n",
        "import glob\n",
        "import random\n"
      ],
      "metadata": {
        "id": "CLQ5iE5dArIX",
        "execution": {
          "iopub.status.busy": "2024-02-05T22:26:31.502601Z",
          "iopub.execute_input": "2024-02-05T22:26:31.50324Z",
          "iopub.status.idle": "2024-02-05T22:26:41.501451Z",
          "shell.execute_reply.started": "2024-02-05T22:26:31.503206Z",
          "shell.execute_reply": "2024-02-05T22:26:41.500356Z"
        },
        "trusted": true
      },
      "execution_count": 12,
      "outputs": []
    },
    {
      "cell_type": "code",
      "source": [
        "# generate accesss to the drive (=data) there are all the labelled csv. files stored\n",
        "from google.colab import drive\n",
        "drive.mount('/content/drive')"
      ],
      "metadata": {
        "colab": {
          "base_uri": "https://localhost:8080/"
        },
        "id": "Q5G56iUaFSpF",
        "outputId": "6fc1211a-fb78-43ea-c1c6-ca9fcb5303cc"
      },
      "execution_count": 2,
      "outputs": [
        {
          "output_type": "stream",
          "name": "stdout",
          "text": [
            "Mounted at /content/drive\n"
          ]
        }
      ]
    },
    {
      "cell_type": "code",
      "source": [
        "# Change to the directory where your text files are located\n",
        "os.chdir('/content/drive/MyDrive/Advanced Data analysis and artificial intelligence/Project/data/Data seperated Martina')"
      ],
      "metadata": {
        "id": "YdGQd8YaqkmD"
      },
      "execution_count": 3,
      "outputs": []
    },
    {
      "cell_type": "code",
      "source": [
        "# List files in the directory to verify\n",
        "file_list = os.listdir()\n",
        "print(file_list)\n",
        "\n",
        "# Display the class names (folders)\n",
        "for file_name in file_list:\n",
        "    if file_name.endswith('.txt'):  # Check if it is a text file\n",
        "        with open(file_name, 'r') as file:\n",
        "            content = file.read()"
      ],
      "metadata": {
        "colab": {
          "base_uri": "https://localhost:8080/"
        },
        "id": "KPEfK4w6qvAZ",
        "outputId": "5a9935f4-d311-4826-8b52-811f25cbc0c6"
      },
      "execution_count": 6,
      "outputs": [
        {
          "output_type": "stream",
          "name": "stdout",
          "text": [
            "['Baba', 'Danke', 'Ich', 'Hallo', 'Bitte']\n"
          ]
        }
      ]
    },
    {
      "cell_type": "markdown",
      "source": [
        "get access to text files in subfolders"
      ],
      "metadata": {
        "id": "HL18SP0fsBVK"
      }
    },
    {
      "cell_type": "code",
      "source": [
        "\n",
        "# Function to read all text files in nested directories\n",
        "def read_text_files_in_nested_directories(base_path):\n",
        "    data = {}\n",
        "    # Iterate over each subdirectory in the base path\n",
        "    for subdir in os.listdir(base_path):\n",
        "        subdir_path = os.path.join(base_path, subdir)\n",
        "        if os.path.isdir(subdir_path):\n",
        "            # Initialize a list to store contents of files in the subdirectory\n",
        "            data[subdir] = []\n",
        "            # Get all text files in the current subdirectory\n",
        "            text_files = glob.glob(os.path.join(subdir_path, '*.txt'))\n",
        "            for text_file in text_files:\n",
        "                with open(text_file, 'r') as file:\n",
        "                    content = file.read()\n",
        "                    data[subdir].append(content)\n",
        "    return data\n",
        "\n",
        "# Base path to your main folder containing subfolders\n",
        "base_path = '/content/drive/MyDrive/Advanced Data analysis and artificial intelligence/Project/data/Data seperated Martina'\n",
        "data = read_text_files_in_nested_directories(base_path)\n"
      ],
      "metadata": {
        "execution": {
          "iopub.status.busy": "2024-02-05T22:26:41.916244Z",
          "iopub.execute_input": "2024-02-05T22:26:41.916569Z",
          "iopub.status.idle": "2024-02-05T22:26:43.827171Z",
          "shell.execute_reply.started": "2024-02-05T22:26:41.916542Z",
          "shell.execute_reply": "2024-02-05T22:26:43.82607Z"
        },
        "trusted": true,
        "id": "cCE6NnjjEbq-"
      },
      "execution_count": 9,
      "outputs": []
    },
    {
      "cell_type": "markdown",
      "source": [
        "# display shape of data\n",
        "to see how much data is in each folder and if the line number of 37 is correct"
      ],
      "metadata": {
        "id": "aQXoNQysEbq-"
      }
    },
    {
      "cell_type": "code",
      "source": [
        "#function to count text files in folder\n",
        "def count_text_files_in_folder(folder_path):\n",
        "    file_count = sum(1 for file in os.listdir(folder_path) if file.endswith('.txt'))\n",
        "    return file_count\n",
        "\n",
        "# function to count lines in text files\n",
        "def count_lines_in_text_files(folder_path):\n",
        "    file_line_counts = {}\n",
        "    for filename in os.listdir(folder_path):\n",
        "        if filename.endswith('.txt'):\n",
        "            file_path = os.path.join(folder_path, filename)\n",
        "            with open(file_path, 'r') as file:\n",
        "                lines = file.readlines()\n",
        "                line_count = len(lines)\n",
        "                file_line_counts[filename] = line_count\n",
        "    return file_line_counts\n",
        "\n",
        "# names of subfolders\n",
        "subfolders = [\"Bitte\", \"Baba\", \"Danke\", \"Hallo\", \"Ich\"]\n",
        "\n",
        "# Zähle die Anzahl der Textdateien und die Anzahl der Zeilen in jedem Unterordner\n",
        "for folder_name in subfolders:\n",
        "    folder_path = os.path.join(base_path, folder_name)\n",
        "    file_count = count_text_files_in_folder(folder_path)\n",
        "    line_count = count_lines_in_text_files(folder_path)\n",
        "    print(f\"Folder '{folder_name}': Numer of text files: {file_count}, number of lines: {line_count}\")"
      ],
      "metadata": {
        "colab": {
          "base_uri": "https://localhost:8080/"
        },
        "id": "i9135fBJwdV4",
        "outputId": "e4fe430c-47cd-43f5-852f-b5a3c8865611"
      },
      "execution_count": 11,
      "outputs": [
        {
          "output_type": "stream",
          "name": "stdout",
          "text": [
            "Folder 'Bitte': Numer of text files: 24, number of lines: {'bitte_m_1.txt': 37, 'bitte_m_2.txt': 37, 'bitte_m_3.txt': 37, 'bitte_m_4.txt': 37, 'bitte_m_5.txt': 37, 'bitte_m_6.txt': 37, 'bitte_m_7.txt': 37, 'bitte_m_8.txt': 37, 'bitte_m_9.txt': 37, 'bitte_m_10.txt': 37, 'bitte_m_11.txt': 37, 'bitte_m_12.txt': 37, 'bitte_m_13.txt': 37, 'bitte_m_14.txt': 37, 'bitte_m_15.txt': 37, 'bitte_m_16.txt': 37, 'bitte_m_17.txt': 37, 'bitte_m_18.txt': 37, 'bitte_m_19.txt': 37, 'bitte_m_20.txt': 37, 'bitte_m_21.txt': 37, 'bitte_m_22.txt': 37, 'bitte_m_23.txt': 37, 'bitte_m_24.txt': 37}\n",
            "Folder 'Baba': Numer of text files: 21, number of lines: {'baba_m_1.txt': 37, 'baba_m_2.txt': 37, 'baba_m_3.txt': 37, 'baba_m_4.txt': 37, 'baba_m_5.txt': 37, 'baba_m_6.txt': 37, 'baba_m_7.txt': 37, 'baba_m_8.txt': 37, 'baba_m_9.txt': 37, 'baba_m_10.txt': 37, 'baba_m_11.txt': 37, 'baba_m_12.txt': 37, 'baba_m_13.txt': 37, 'baba_m_14.txt': 37, 'baba_m_15.txt': 37, 'baba_m_16.txt': 37, 'baba_m_17.txt': 37, 'baba_m_18.txt': 37, 'baba_m_19.txt': 37, 'baba_m_20.txt': 37, 'baba_m_21.txt': 37}\n",
            "Folder 'Danke': Numer of text files: 18, number of lines: {'danke_m_1.txt': 37, 'danke_m_2.txt': 37, 'danke_m_3.txt': 37, 'danke_m_4.txt': 37, 'danke_m_5.txt': 37, 'danke_m_6.txt': 37, 'danke_m_7.txt': 37, 'danke_m_8.txt': 37, 'danke_m_9.txt': 37, 'danke_m_10.txt': 37, 'danke_m_11.txt': 37, 'danke_m_12.txt': 37, 'danke_m_13.txt': 37, 'danke_m_14.txt': 37, 'danke_m_15.txt': 37, 'danke_m_16.txt': 37, 'danke_m_17.txt': 37, 'danke_m_18.txt': 37}\n",
            "Folder 'Hallo': Numer of text files: 17, number of lines: {'hallo_m_1.txt': 37, 'hallo_m_2.txt': 37, 'hallo_m_3.txt': 37, 'hallo_m_4.txt': 37, 'hallo_m_5.txt': 37, 'hallo_m_6.txt': 37, 'hallo_m_7.txt': 37, 'hallo_m_8.txt': 37, 'hallo_m_9.txt': 37, 'hallo_m_10.txt': 37, 'hallo_m_11.txt': 37, 'hallo_m_12.txt': 37, 'hallo_m_13.txt': 37, 'hallo_m_14.txt': 37, 'hallo_m_15.txt': 37, 'hallo_m_16.txt': 37, 'hallo_m_17.txt': 37}\n",
            "Folder 'Ich': Numer of text files: 20, number of lines: {'ich_m_1.txt': 37, 'ich_m_2.txt': 37, 'ich_m_3.txt': 37, 'ich_m_4.txt': 37, 'ich_m_5.txt': 37, 'ich_m_6.txt': 37, 'ich_m_7.txt': 37, 'ich_m_8.txt': 37, 'ich_m_9.txt': 37, 'ich_m_10.txt': 37, 'ich_m_11.txt': 37, 'ich_m_12.txt': 37, 'ich_m_13.txt': 37, 'ich_m_14.txt': 37, 'ich_m_15.txt': 37, 'ich_m_16.txt': 37, 'ich_m_17.txt': 37, 'ich_m_18.txt': 37, 'ich_m_19.txt': 37, 'ich_m_20.txt': 37}\n"
          ]
        }
      ]
    },
    {
      "cell_type": "markdown",
      "source": [
        "The code below generates a visual comparison between two randomly selected datasets for a sign. This side-by-side plot enables a direct visual assessment of signal patterns between the different signs.\n",
        "**insert plot from Julia**"
      ],
      "metadata": {
        "id": "Q5Ij4uDgEbq-"
      }
    },
    {
      "cell_type": "code",
      "source": [],
      "metadata": {
        "id": "Sars471bpLXv"
      },
      "execution_count": null,
      "outputs": []
    },
    {
      "cell_type": "markdown",
      "source": [
        "make one total dataframe and assign labels and classnames\n"
      ],
      "metadata": {
        "id": "0T8n7Qxpoy-g"
      }
    },
    {
      "cell_type": "code",
      "source": [
        "# load data from text files and label them and assign classnames\n",
        "def load_and_label_data(folder_path, class_label, class_name):\n",
        "    data_list = []\n",
        "    for filename in os.listdir(folder_path):\n",
        "        if filename.endswith('.txt'):\n",
        "            file_path = os.path.join(folder_path, filename)\n",
        "            df = pd.read_csv(file_path, sep=',', header=None)  # data is seperated trough , and without header\n",
        "            df['Label'] = class_label\n",
        "            df['ClassName'] = class_name\n",
        "            data_list.append(df)\n",
        "    return data_list\n",
        "\n",
        "bitte_path = os.path.join(base_path, \"Bitte\")\n",
        "hallo_path = os.path.join(base_path, \"Hallo\")\n",
        "baba_path = os.path.join(base_path, \"Baba\")\n",
        "danke_path = os.path.join(base_path, \"Danke\")\n",
        "ich_path = os.path.join(base_path, \"Ich\")\n",
        "\n",
        "bitte_data = load_and_label_data(bitte_path, class_label=0, class_name=\"Bitte\")\n",
        "hallo_data = load_and_label_data(hallo_path, class_label=1, class_name=\"Hallo\")\n",
        "baba_data = load_and_label_data(baba_path, class_label=2, class_name=\"Baba\")\n",
        "danke_data = load_and_label_data(danke_path, class_label=3, class_name=\"Danke\")\n",
        "ich_data = load_and_label_data(ich_path, class_label=4, class_name=\"Ich\")\n",
        "\n",
        "# combine all data in one list\n",
        "combined_data = bitte_data + hallo_data + baba_data + danke_data + ich_data\n",
        "\n",
        "# combine list in dataframe\n",
        "combined_df = pd.concat(combined_data, ignore_index=True)\n",
        "\n",
        "# check dimension of dataframe\n",
        "print(combined_df.shape)\n",
        "\n",
        "# adjust Pandas-display oprions to show all collumns benath each other\n",
        "pd.set_option('display.max_columns', None)\n",
        "pd.set_option('display.expand_frame_repr', False)\n",
        "pd.set_option('display.width', 2000)\n",
        "\n",
        "# choose 5 random dataset out of the combined data list and check them\n",
        "random_data_samples = random.sample(combined_data, 5)\n",
        "for i, df in enumerate(random_data_samples):\n",
        "    print(f\"DataFrame {i+1}:\")\n",
        "    print(df.head())\n",
        "    print(df.shape)"
      ],
      "metadata": {
        "colab": {
          "base_uri": "https://localhost:8080/"
        },
        "id": "q-o-Ubo2sZXJ",
        "outputId": "39edbf89-2a80-49e6-c45a-239e3e64ca95"
      },
      "execution_count": 31,
      "outputs": [
        {
          "output_type": "stream",
          "name": "stdout",
          "text": [
            "(3700, 14)\n",
            "DataFrame 1:\n",
            "      0     1     2     3     4     5    6    7    8    9   10    11  Label ClassName\n",
            "0  3.64  8.00 -0.49 -0.21  0.32  1.15  921  806  902  892  854  1066      3     Danke\n",
            "1  3.09  8.11  1.58 -0.03  0.61  1.57  953  831  910  895  870  1074      3     Danke\n",
            "2  4.22  7.54  1.70  0.83  1.71  2.19  921  840  912  893  847  1077      3     Danke\n",
            "3  5.09  8.51  3.08  1.06  3.22  3.59  843  798  890  852  885  1077      3     Danke\n",
            "4  7.93  8.06  1.92  1.66  4.87  3.15  921  815  894  852  847  1072      3     Danke\n",
            "(37, 14)\n",
            "DataFrame 2:\n",
            "       0     1     2     3     4     5    6    7    8    9   10    11  Label ClassName\n",
            "0  11.77  1.60  2.47  0.25  2.06  0.74  859  647  848  642  740  1176      0     Bitte\n",
            "1  14.89  0.77  2.46 -0.77  2.67 -0.27  828  672  891  677  770  1181      0     Bitte\n",
            "2  11.86  2.54  3.55 -0.51  0.88 -0.31  781  731  914  703  755  1186      0     Bitte\n",
            "3  14.78  1.95  4.65  0.06 -0.26 -0.46  781  764  939  752  770  1189      0     Bitte\n",
            "4  13.18  2.15  3.97  0.10 -1.37 -1.66  796  806  975  803  809  1192      0     Bitte\n",
            "(37, 14)\n",
            "DataFrame 3:\n",
            "       0     1     2     3     4     5    6    7    8    9   10    11  Label ClassName\n",
            "0   8.23  0.82  4.27  0.25 -1.98 -0.74  796  605  733  715  770  1121      1     Hallo\n",
            "1  10.46  2.38  3.33 -0.02 -0.89 -0.34  828  563  698  685  816  1108      1     Hallo\n",
            "2  10.03  0.55  4.12  0.45 -0.48 -0.96  875  529  691  697  854  1100      1     Hallo\n",
            "3   9.94  2.09  2.69  0.98 -1.63 -1.55  828  537  676  684  847  1097      1     Hallo\n",
            "4   8.78  2.96  2.18  0.22 -3.38 -1.25  859  537  666  677  854  1088      1     Hallo\n",
            "(37, 14)\n",
            "DataFrame 4:\n",
            "       0     1     2     3     4     5    6    7    8    9   10    11  Label ClassName\n",
            "0   7.83  6.56 -2.79  1.00  8.73  4.11  875  579  691  639  694  1077      4       Ich\n",
            "1   8.37  5.33 -0.09  0.00  3.82  3.43  843  630  698  634  664  1076      4       Ich\n",
            "2   9.55  5.72  0.22 -1.30  0.19  3.45  843  630  686  601  625  1077      4       Ich\n",
            "3  13.04  5.17  0.59  0.97  1.83  2.62  859  647  664  566  618  1076      4       Ich\n",
            "4  11.50  5.91 -1.89  0.75  2.13  1.26  968  621  660  565  603  1076      4       Ich\n",
            "(37, 14)\n",
            "DataFrame 5:\n",
            "      0     1     2     3     4     5    6    7    8    9   10    11  Label ClassName\n",
            "0  8.44  7.95  0.31  0.94 -0.83  0.35  875  773  953  912  900  1124      1     Hallo\n",
            "1  7.83  8.55  0.08 -0.14  0.16  0.50  921  789  956  913  877  1139      1     Hallo\n",
            "2  8.56  8.21  0.21  0.46  1.20  0.75  859  756  957  911  893  1144      1     Hallo\n",
            "3  7.89  8.41  0.53 -0.05  1.29  0.57  781  764  956  909  938  1153      1     Hallo\n",
            "4  9.00  8.30  0.35  0.08  0.83  0.16  812  773  957  913  908  1157      1     Hallo\n",
            "(37, 14)\n"
          ]
        }
      ]
    },
    {
      "cell_type": "markdown",
      "source": [
        "**explanation of the lines above**\n",
        "The total dataframe consists 100 signs recorded.\n",
        "Each text file consists of 37 timesteps.\n",
        "Each row (timestep) has 14 columns containing the following data:\n",
        "12 measurements (XAcc,YAcc,ZAcc,XGyro,YGyro,ZGyro,Thumb,Index,Middle,Ring,Pinkie,Wrist), 1 label column (Label),1 class name column (ClassName), which relusts in a matrix: (37,14)."
      ],
      "metadata": {
        "id": "MVsnerdDtbhc"
      }
    },
    {
      "cell_type": "markdown",
      "source": [
        "## normalize that data to get same amount of data for each sign\n",
        " count the number of text files in each folder and find the minimum count. Then, resize the datasets accordingly."
      ],
      "metadata": {
        "id": "Vmso-7JgEbrA"
      }
    },
    {
      "cell_type": "code",
      "source": [
        "\n",
        "# Function to resize datasets to the same size\n",
        "def resize_data(data_list, min_size):\n",
        "    resized_data = [df[:min_size] for df in data_list]\n",
        "    return resized_data\n",
        "\n",
        "# Determine the minimum number of text files in a folder\n",
        "def min_files_in_folder(folder_paths):\n",
        "    min_count = float('inf')\n",
        "    for folder_path in folder_paths:\n",
        "        file_count = len([f for f in os.listdir(folder_path) if f.endswith('.txt')])\n",
        "        if file_count < min_count:\n",
        "            min_count = file_count\n",
        "    return min_count\n",
        "\n",
        "# Determine the minimum number of text files among all folders\n",
        "min_files = min_files_in_folder([bitte_path, hallo_path, baba_path, danke_path, ich_path])\n",
        "\n",
        "# Resize datasets to match the size of the dataset with the least amount of data\n",
        "resized_data = [resize_data(data, min_files) for data in [bitte_data, hallo_data, baba_data, danke_data, ich_data]]\n",
        "\n",
        "# Concatenate resized datasets into a single DataFrame\n",
        "combined_df = pd.concat([pd.concat(data, ignore_index=True) for data in resized_data], ignore_index=True)\n",
        "\n",
        "for folder_name in subfolders:\n",
        "  print(f\"Folder '{folder_name}': Numer of text files: {min_files}, number of lines: {line_count}\")"
      ],
      "metadata": {
        "id": "web-cxU5lH1a",
        "outputId": "a7818e17-5b14-4973-e0d0-d0d40d82531c",
        "execution": {
          "iopub.status.busy": "2024-02-05T22:26:44.966062Z",
          "iopub.execute_input": "2024-02-05T22:26:44.966423Z",
          "iopub.status.idle": "2024-02-05T22:26:44.988824Z",
          "shell.execute_reply.started": "2024-02-05T22:26:44.966389Z",
          "shell.execute_reply": "2024-02-05T22:26:44.987961Z"
        },
        "trusted": true,
        "colab": {
          "base_uri": "https://localhost:8080/"
        }
      },
      "execution_count": 35,
      "outputs": [
        {
          "output_type": "stream",
          "name": "stdout",
          "text": [
            "Folder 'Bitte': Numer of text files: 17, number of lines: {'ich_m_1.txt': 37, 'ich_m_2.txt': 37, 'ich_m_3.txt': 37, 'ich_m_4.txt': 37, 'ich_m_5.txt': 37, 'ich_m_6.txt': 37, 'ich_m_7.txt': 37, 'ich_m_8.txt': 37, 'ich_m_9.txt': 37, 'ich_m_10.txt': 37, 'ich_m_11.txt': 37, 'ich_m_12.txt': 37, 'ich_m_13.txt': 37, 'ich_m_14.txt': 37, 'ich_m_15.txt': 37, 'ich_m_16.txt': 37, 'ich_m_17.txt': 37, 'ich_m_18.txt': 37, 'ich_m_19.txt': 37, 'ich_m_20.txt': 37}\n",
            "Folder 'Baba': Numer of text files: 17, number of lines: {'ich_m_1.txt': 37, 'ich_m_2.txt': 37, 'ich_m_3.txt': 37, 'ich_m_4.txt': 37, 'ich_m_5.txt': 37, 'ich_m_6.txt': 37, 'ich_m_7.txt': 37, 'ich_m_8.txt': 37, 'ich_m_9.txt': 37, 'ich_m_10.txt': 37, 'ich_m_11.txt': 37, 'ich_m_12.txt': 37, 'ich_m_13.txt': 37, 'ich_m_14.txt': 37, 'ich_m_15.txt': 37, 'ich_m_16.txt': 37, 'ich_m_17.txt': 37, 'ich_m_18.txt': 37, 'ich_m_19.txt': 37, 'ich_m_20.txt': 37}\n",
            "Folder 'Danke': Numer of text files: 17, number of lines: {'ich_m_1.txt': 37, 'ich_m_2.txt': 37, 'ich_m_3.txt': 37, 'ich_m_4.txt': 37, 'ich_m_5.txt': 37, 'ich_m_6.txt': 37, 'ich_m_7.txt': 37, 'ich_m_8.txt': 37, 'ich_m_9.txt': 37, 'ich_m_10.txt': 37, 'ich_m_11.txt': 37, 'ich_m_12.txt': 37, 'ich_m_13.txt': 37, 'ich_m_14.txt': 37, 'ich_m_15.txt': 37, 'ich_m_16.txt': 37, 'ich_m_17.txt': 37, 'ich_m_18.txt': 37, 'ich_m_19.txt': 37, 'ich_m_20.txt': 37}\n",
            "Folder 'Hallo': Numer of text files: 17, number of lines: {'ich_m_1.txt': 37, 'ich_m_2.txt': 37, 'ich_m_3.txt': 37, 'ich_m_4.txt': 37, 'ich_m_5.txt': 37, 'ich_m_6.txt': 37, 'ich_m_7.txt': 37, 'ich_m_8.txt': 37, 'ich_m_9.txt': 37, 'ich_m_10.txt': 37, 'ich_m_11.txt': 37, 'ich_m_12.txt': 37, 'ich_m_13.txt': 37, 'ich_m_14.txt': 37, 'ich_m_15.txt': 37, 'ich_m_16.txt': 37, 'ich_m_17.txt': 37, 'ich_m_18.txt': 37, 'ich_m_19.txt': 37, 'ich_m_20.txt': 37}\n",
            "Folder 'Ich': Numer of text files: 17, number of lines: {'ich_m_1.txt': 37, 'ich_m_2.txt': 37, 'ich_m_3.txt': 37, 'ich_m_4.txt': 37, 'ich_m_5.txt': 37, 'ich_m_6.txt': 37, 'ich_m_7.txt': 37, 'ich_m_8.txt': 37, 'ich_m_9.txt': 37, 'ich_m_10.txt': 37, 'ich_m_11.txt': 37, 'ich_m_12.txt': 37, 'ich_m_13.txt': 37, 'ich_m_14.txt': 37, 'ich_m_15.txt': 37, 'ich_m_16.txt': 37, 'ich_m_17.txt': 37, 'ich_m_18.txt': 37, 'ich_m_19.txt': 37, 'ich_m_20.txt': 37}\n"
          ]
        }
      ]
    },
    {
      "cell_type": "markdown",
      "source": [
        "## Splitting the data to training and testing set"
      ],
      "metadata": {
        "id": "n8_uqwESxfQx"
      }
    },
    {
      "cell_type": "code",
      "source": [
        "# Perform train-test split with a ratio of 90% for training and 10% for testing\n",
        "X = combined_df.drop(['Label', 'ClassName'], axis=1)\n",
        "y = combined_df['Label']\n",
        "X_train, X_test, y_train, y_test = train_test_split(X, y, test_size=0.1, random_state=42)\n",
        "\n",
        "# Display the shapes of train and test sets\n",
        "print(\"Train set shape:\", X_train.shape, len(y_train))\n",
        "print(\"Test set shape:\", X_test.shape, len(y_test))"
      ],
      "metadata": {
        "colab": {
          "base_uri": "https://localhost:8080/"
        },
        "id": "wN1m0HJexcx6",
        "outputId": "ecf7d356-8d2c-4a30-f867-95ef6d54ad0b"
      },
      "execution_count": 37,
      "outputs": [
        {
          "output_type": "stream",
          "name": "stdout",
          "text": [
            "Train set shape: (1530, 12) 1530\n",
            "Test set shape: (170, 12) 170\n"
          ]
        }
      ]
    },
    {
      "cell_type": "markdown",
      "source": [
        "# Building CNN Autoencoder Model"
      ],
      "metadata": {
        "id": "4MJZlRhsEbrA"
      }
    },
    {
      "cell_type": "markdown",
      "source": [
        "## About Autoencoders: Learning Efficient Data Representations\n",
        "\n",
        "Autoencoders are a class of neural network architectures commonly used in unsupervised machine learning and deep learning tasks. Their primary purpose is to discover and learn efficient representations of data by encoding it into a lower-dimensional latent space and subsequently decoding it back to its original form. Autoencoders play a crucial role in various applications, such as dimensionality reduction, data denoising, anomaly detection, and generative modeling.\n",
        "\n",
        "The core components of an autoencoder consist of an encoder and a decoder. The encoder maps input data to the latent space, while the decoder reconstructs the data from its encoded representation. During training, autoencoders aim to minimize the reconstruction error between the input and the decoded output, which results in the learning of meaningful data representations.\n",
        "\n",
        "Autoencoders offer a versatile tool for feature extraction, data compression, and more, making them a valuable addition to the toolkit of data scientists and machine learning practitioners.\n"
      ],
      "metadata": {
        "id": "MairbMQJEbrA"
      }
    },
    {
      "cell_type": "markdown",
      "source": [
        "![Autoencoder](https://miro.medium.com/v2/resize:fit:640/format:webp/1*nqzWupxC60iAH2dYrFT78Q.png)"
      ],
      "metadata": {
        "id": "-3AnhmD4EbrA"
      }
    },
    {
      "cell_type": "code",
      "source": [
        "tf.keras.utils.set_random_seed(1024)"
      ],
      "metadata": {
        "execution": {
          "iopub.status.busy": "2024-02-05T22:26:44.989885Z",
          "iopub.execute_input": "2024-02-05T22:26:44.990228Z",
          "iopub.status.idle": "2024-02-05T22:26:44.995161Z",
          "shell.execute_reply.started": "2024-02-05T22:26:44.990202Z",
          "shell.execute_reply": "2024-02-05T22:26:44.994209Z"
        },
        "trusted": true,
        "id": "u3gx98RPEbrA"
      },
      "execution_count": 49,
      "outputs": []
    },
    {
      "cell_type": "code",
      "source": [
        "class AutoEncoder(tf.keras.Model):\n",
        "    def __init__(self, input_dim, latent_dim):\n",
        "        super(AutoEncoder, self).__init__()\n",
        "        self.input_dim = input_dim\n",
        "        self.latent_dim = latent_dim\n",
        "\n",
        "        # Encoder part\n",
        "        self.encoder = tf.keras.Sequential([\n",
        "            layers.Input(shape=(input_dim,)),\n",
        "            layers.Reshape((input_dim, 1)),\n",
        "            layers.Conv1D(128, 3, strides=1, activation='relu', padding=\"same\"),\n",
        "            layers.BatchNormalization(),\n",
        "            layers.MaxPooling1D(2, padding=\"same\"),\n",
        "            layers.Conv1D(128, 3, strides=1, activation='relu', padding=\"same\"),\n",
        "            layers.BatchNormalization(),\n",
        "            layers.MaxPooling1D(2, padding=\"same\"),\n",
        "            layers.Conv1D(latent_dim, 3, strides=1, activation='relu', padding=\"same\"),\n",
        "            layers.BatchNormalization(),\n",
        "            layers.MaxPooling1D(2, padding=\"same\"),\n",
        "        ])\n",
        "\n",
        "        # Decoder part\n",
        "        self.decoder = tf.keras.Sequential([\n",
        "            layers.Conv1DTranspose(latent_dim, 3, strides=1, activation='relu', padding=\"same\"),\n",
        "            layers.BatchNormalization(),\n",
        "            layers.Conv1DTranspose(128, 3, strides=1, activation='relu', padding=\"same\"),\n",
        "            layers.BatchNormalization(),\n",
        "            layers.Conv1DTranspose(128, 3, strides=1, activation='relu', padding=\"same\"),\n",
        "            layers.BatchNormalization(),\n",
        "            layers.Flatten(),\n",
        "            layers.Dense(input_dim)\n",
        "        ])\n",
        "\n",
        "    def call(self, X):\n",
        "        encoded = self.encoder(X)\n",
        "        decoded = self.decoder(encoded)\n",
        "        return decoded\n",
        "\n",
        "# Beispiel zur Verwendung des Autoencoders\n",
        "input_dim = 12  # Beispielwert für die Eingabedimension\n",
        "latent_dim = 16  # Beispielwert für die Dimension der latenten Variablen\n",
        "\n",
        "# Erzeuge eine Instanz des Autoencoders\n",
        "autoencoder = AutoEncoder(input_dim, latent_dim)"
      ],
      "metadata": {
        "execution": {
          "iopub.status.busy": "2024-02-05T22:26:44.996315Z",
          "iopub.execute_input": "2024-02-05T22:26:44.996902Z",
          "iopub.status.idle": "2024-02-05T22:26:46.016042Z",
          "shell.execute_reply.started": "2024-02-05T22:26:44.996878Z",
          "shell.execute_reply": "2024-02-05T22:26:46.015126Z"
        },
        "trusted": true,
        "id": "IWhkmuZwEbrB"
      },
      "execution_count": 50,
      "outputs": []
    },
    {
      "cell_type": "code",
      "source": [
        "# Kompilieren des Modells\n",
        "autoencoder.compile(optimizer='adam', loss='mse')\n",
        "\n",
        "# Definiere die Anzahl der Epochen und die Batch-Größe\n",
        "epochs = 30\n",
        "batch_size = 128\n",
        "\n",
        "# Definiere den Early Stopping Callback\n",
        "early_stopping = EarlyStopping(patience=10, min_delta=1e-3, monitor=\"val_loss\", restore_best_weights=True)\n",
        "\n",
        "# Trainiere das Modell\n",
        "history = autoencoder.fit(X_train, X_train, epochs=epochs, batch_size=batch_size,\n",
        "                           validation_split=0.1, callbacks=[early_stopping])"
      ],
      "metadata": {
        "id": "4xfyy_l5veYr",
        "outputId": "077abe8f-c63f-4e8a-d386-aa1f1f7f5baa",
        "execution": {
          "iopub.status.busy": "2024-02-05T22:26:46.017171Z",
          "iopub.execute_input": "2024-02-05T22:26:46.017455Z",
          "iopub.status.idle": "2024-02-05T22:27:09.715829Z",
          "shell.execute_reply.started": "2024-02-05T22:26:46.017431Z",
          "shell.execute_reply": "2024-02-05T22:27:09.715029Z"
        },
        "trusted": true,
        "colab": {
          "base_uri": "https://localhost:8080/"
        }
      },
      "execution_count": 51,
      "outputs": [
        {
          "output_type": "stream",
          "name": "stdout",
          "text": [
            "Epoch 1/30\n",
            "11/11 [==============================] - 6s 105ms/step - loss: 377513.9375 - val_loss: 380341.5312\n",
            "Epoch 2/30\n",
            "11/11 [==============================] - 0s 37ms/step - loss: 373851.0938 - val_loss: 377425.8438\n",
            "Epoch 3/30\n",
            "11/11 [==============================] - 0s 34ms/step - loss: 370846.0000 - val_loss: 372614.0000\n",
            "Epoch 4/30\n",
            "11/11 [==============================] - 0s 29ms/step - loss: 367796.0000 - val_loss: 368605.2812\n",
            "Epoch 5/30\n",
            "11/11 [==============================] - 0s 31ms/step - loss: 364705.0312 - val_loss: 365833.0312\n",
            "Epoch 6/30\n",
            "11/11 [==============================] - 0s 40ms/step - loss: 361592.6562 - val_loss: 363698.8750\n",
            "Epoch 7/30\n",
            "11/11 [==============================] - 0s 35ms/step - loss: 358438.9062 - val_loss: 360032.8438\n",
            "Epoch 8/30\n",
            "11/11 [==============================] - 0s 31ms/step - loss: 355234.0625 - val_loss: 357460.4375\n",
            "Epoch 9/30\n",
            "11/11 [==============================] - 0s 29ms/step - loss: 351979.4688 - val_loss: 355616.3750\n",
            "Epoch 10/30\n",
            "11/11 [==============================] - 0s 28ms/step - loss: 348662.9688 - val_loss: 353227.1250\n",
            "Epoch 11/30\n",
            "11/11 [==============================] - 0s 29ms/step - loss: 345287.7188 - val_loss: 350651.4375\n",
            "Epoch 12/30\n",
            "11/11 [==============================] - 0s 28ms/step - loss: 341843.0625 - val_loss: 347709.2188\n",
            "Epoch 13/30\n",
            "11/11 [==============================] - 0s 28ms/step - loss: 338329.7500 - val_loss: 344624.5625\n",
            "Epoch 14/30\n",
            "11/11 [==============================] - 0s 30ms/step - loss: 334749.9688 - val_loss: 341333.0000\n",
            "Epoch 15/30\n",
            "11/11 [==============================] - 0s 29ms/step - loss: 331106.7812 - val_loss: 337755.7500\n",
            "Epoch 16/30\n",
            "11/11 [==============================] - 0s 30ms/step - loss: 327391.4062 - val_loss: 333771.3438\n",
            "Epoch 17/30\n",
            "11/11 [==============================] - 0s 32ms/step - loss: 323613.8125 - val_loss: 329661.2500\n",
            "Epoch 18/30\n",
            "11/11 [==============================] - 0s 30ms/step - loss: 319770.0938 - val_loss: 325213.7812\n",
            "Epoch 19/30\n",
            "11/11 [==============================] - 0s 31ms/step - loss: 315874.2812 - val_loss: 320798.9375\n",
            "Epoch 20/30\n",
            "11/11 [==============================] - 0s 34ms/step - loss: 311894.5312 - val_loss: 316095.5938\n",
            "Epoch 21/30\n",
            "11/11 [==============================] - 0s 39ms/step - loss: 307871.6875 - val_loss: 311294.3125\n",
            "Epoch 22/30\n",
            "11/11 [==============================] - 0s 37ms/step - loss: 303794.5312 - val_loss: 306012.7500\n",
            "Epoch 23/30\n",
            "11/11 [==============================] - 0s 39ms/step - loss: 299652.8125 - val_loss: 300807.4688\n",
            "Epoch 24/30\n",
            "11/11 [==============================] - 0s 28ms/step - loss: 295460.1250 - val_loss: 295182.8125\n",
            "Epoch 25/30\n",
            "11/11 [==============================] - 0s 29ms/step - loss: 291227.5938 - val_loss: 289697.3750\n",
            "Epoch 26/30\n",
            "11/11 [==============================] - 0s 31ms/step - loss: 286936.4375 - val_loss: 284119.4375\n",
            "Epoch 27/30\n",
            "11/11 [==============================] - 0s 28ms/step - loss: 282609.0312 - val_loss: 278464.4688\n",
            "Epoch 28/30\n",
            "11/11 [==============================] - 0s 33ms/step - loss: 278226.4062 - val_loss: 273085.9688\n",
            "Epoch 29/30\n",
            "11/11 [==============================] - 0s 45ms/step - loss: 273830.0312 - val_loss: 267196.0000\n",
            "Epoch 30/30\n",
            "11/11 [==============================] - 1s 69ms/step - loss: 269377.2500 - val_loss: 261734.4844\n"
          ]
        }
      ]
    },
    {
      "cell_type": "code",
      "source": [
        "plt.plot(history.history['loss'], label=\"Training loss\")\n",
        "plt.plot(history.history['val_loss'], label=\"Validation loss\", ls=\"--\")\n",
        "plt.legend(shadow=True, frameon=True, facecolor=\"inherit\", loc=\"best\", fontsize=9)\n",
        "plt.title(\"Training loss\")\n",
        "plt.ylabel(\"Loss\")\n",
        "plt.xlabel(\"Epoch\")\n",
        "plt.show()"
      ],
      "metadata": {
        "id": "bfqckqK3IlXo",
        "outputId": "751c300a-3475-4478-dc20-adcc7aa0d2e0",
        "execution": {
          "iopub.status.busy": "2024-02-05T22:27:09.716979Z",
          "iopub.execute_input": "2024-02-05T22:27:09.717293Z",
          "iopub.status.idle": "2024-02-05T22:27:09.99453Z",
          "shell.execute_reply.started": "2024-02-05T22:27:09.717267Z",
          "shell.execute_reply": "2024-02-05T22:27:09.993512Z"
        },
        "trusted": true,
        "colab": {
          "base_uri": "https://localhost:8080/",
          "height": 415
        }
      },
      "execution_count": 52,
      "outputs": [
        {
          "output_type": "display_data",
          "data": {
            "text/plain": [
              "<Figure size 600x400 with 1 Axes>"
            ],
            "image/png": "[encoded data removed]"
          },
          "metadata": {}
        }
      ]
    },
    {
      "cell_type": "code",
      "source": [
        "train_mae = autoencoder.evaluate(X_train, X_train, verbose=0)\n",
        "test_mae = autoencoder.evaluate(X_test, X_test, verbose=0) # error is quite low which is good\n",
        "print(\"Training dataset error: \", train_mae)\n",
        "print(\"Testing dataset error: \", test_mae)"
      ],
      "metadata": {
        "id": "uM-FhXpR1YAV",
        "outputId": "c3a1ccd7-994a-4483-eb83-49c2d6597965",
        "execution": {
          "iopub.status.busy": "2024-02-05T22:27:09.996127Z",
          "iopub.execute_input": "2024-02-05T22:27:09.996449Z",
          "iopub.status.idle": "2024-02-05T22:27:11.927795Z",
          "shell.execute_reply.started": "2024-02-05T22:27:09.996424Z",
          "shell.execute_reply": "2024-02-05T22:27:11.926852Z"
        },
        "trusted": true,
        "colab": {
          "base_uri": "https://localhost:8080/"
        }
      },
      "execution_count": 56,
      "outputs": [
        {
          "output_type": "stream",
          "name": "stdout",
          "text": [
            "Training dataset error:  260612.953125\n",
            "Testing dataset error:  257001.578125\n"
          ]
        }
      ]
    },
    {
      "cell_type": "code",
      "source": [
        "def predict(model, X): #predict if new signal is normal or abnormal\n",
        "    pred = model.predict(X, verbose=False)\n",
        "    loss = mae(pred, X)\n",
        "    return pred, loss"
      ],
      "metadata": {
        "id": "dL7N-P3mk8bL",
        "execution": {
          "iopub.status.busy": "2024-02-05T22:27:11.929031Z",
          "iopub.execute_input": "2024-02-05T22:27:11.929355Z",
          "iopub.status.idle": "2024-02-05T22:27:11.934029Z",
          "shell.execute_reply.started": "2024-02-05T22:27:11.929327Z",
          "shell.execute_reply": "2024-02-05T22:27:11.933059Z"
        },
        "trusted": true
      },
      "execution_count": 57,
      "outputs": []
    },
    {
      "cell_type": "code",
      "source": [
        "_, train_loss = predict(autoencoder, X_train)\n",
        "_, test_loss = predict(autoencoder, X_test)\n",
        "threshold = np.mean(train_loss) + np.std(train_loss) # Setting threshold for distinguish normal data from anomalous data (have a look at how good they overlap)\n",
        "\n",
        "bins = 40\n",
        "plt.figure(figsize=(9, 5), dpi=100)\n",
        "sns.histplot(np.clip(train_loss, 0, 0.5), bins=bins, kde=True, label=\"Train Normal\")\n",
        "sns.histplot(np.clip(test_loss, 0, 0.5), bins=bins, kde=True, label=\"Test Normal\")\n",
        "\n",
        "ax = plt.gca()  # Get the current Axes\n",
        "ylim = ax.get_ylim()\n",
        "plt.vlines(threshold, 0, ylim[-1], color=\"k\", ls=\"--\")\n",
        "plt.annotate(f\"Threshold: {threshold:.3f}\", xy=(threshold, ylim[-1]), xytext=(threshold+0.009, ylim[-1]),\n",
        "             arrowprops=dict(facecolor='black', shrink=0.05), fontsize=9)\n",
        "plt.legend(shadow=True, frameon=True, facecolor=\"inherit\", loc=\"best\", fontsize=9)\n",
        "plt.show()"
      ],
      "metadata": {
        "id": "Y-KHAFZwYoQS",
        "outputId": "cf858cdb-3d1c-439d-856f-cafdc4732eee",
        "execution": {
          "iopub.status.busy": "2024-02-05T22:27:11.935227Z",
          "iopub.execute_input": "2024-02-05T22:27:11.935587Z",
          "iopub.status.idle": "2024-02-05T22:27:14.579163Z",
          "shell.execute_reply.started": "2024-02-05T22:27:11.935553Z",
          "shell.execute_reply": "2024-02-05T22:27:14.578109Z"
        },
        "trusted": true,
        "colab": {
          "base_uri": "https://localhost:8080/",
          "height": 332
        }
      },
      "execution_count": 60,
      "outputs": [
        {
          "output_type": "display_data",
          "data": {
            "text/plain": [
              "<Figure size 900x500 with 1 Axes>"
            ],
            "image/png": "[encoded data removed]"
          },
          "metadata": {}
        }
      ]
    },
    {
      "cell_type": "code",
      "source": [
        "def plot_examples(autoencoder, data, ax, title): #random plots for normal and anormal data ,actual vs predicted\n",
        "    pred, loss = predict(autoencoder, data)\n",
        "    ax.plot(data.flatten(), label=\"Actual\")\n",
        "    ax.plot(pred[0], label = \"Predicted\")\n",
        "    ax.fill_between(range(1, 188), data.flatten(), pred[0], alpha=0.3, color=\"r\")\n",
        "    ax.legend(shadow=True, frameon=True,\n",
        "              facecolor=\"inherit\", loc=1, fontsize=7)\n",
        "#                bbox_to_anchor = (0, 0, 0.8, 0.25))\n",
        "\n",
        "    ax.set_title(f\"{title} (loss: {loss[0]:.3f})\", fontsize=9.5)"
      ],
      "metadata": {
        "id": "2O3Nto_0Y2Il",
        "execution": {
          "iopub.status.busy": "2024-02-05T22:27:14.58033Z",
          "iopub.execute_input": "2024-02-05T22:27:14.580609Z",
          "iopub.status.idle": "2024-02-05T22:27:14.587045Z",
          "shell.execute_reply.started": "2024-02-05T22:27:14.580585Z",
          "shell.execute_reply": "2024-02-05T22:27:14.586176Z"
        },
        "trusted": true
      },
      "execution_count": 61,
      "outputs": []
    },
    {
      "cell_type": "markdown",
      "source": [
        "compare actual vs reconstructed data"
      ],
      "metadata": {
        "id": "xtkl_QEM7lMD"
      }
    },
    {
      "cell_type": "code",
      "source": [
        "\n"
      ],
      "metadata": {
        "id": "OhM07LBFvbdn",
        "execution": {
          "iopub.status.busy": "2024-02-05T22:27:14.588311Z",
          "iopub.execute_input": "2024-02-05T22:27:14.588652Z",
          "iopub.status.idle": "2024-02-05T22:27:18.176211Z",
          "shell.execute_reply.started": "2024-02-05T22:27:14.588615Z",
          "shell.execute_reply": "2024-02-05T22:27:18.17528Z"
        },
        "trusted": true
      },
      "execution_count": 62,
      "outputs": []
    },
    {
      "cell_type": "markdown",
      "source": [
        "## Model Evaluation"
      ],
      "metadata": {
        "id": "lroS8YG2H99t"
      }
    },
    {
      "cell_type": "code",
      "source": [
        "def evaluate_model(model, data):\n",
        "    pred, loss = predict(model, data)\n",
        "    if id(data) == id(anomaly):\n",
        "        accuracy = np.sum(loss > threshold)/len(data)\n",
        "    else:\n",
        "        accuracy = np.sum(loss <= threshold)/len(data)\n",
        "    return f\"Accuracy: {accuracy:.2%}\""
      ],
      "metadata": {
        "id": "rafC-MlJ1ww4",
        "execution": {
          "iopub.status.busy": "2024-02-05T22:27:18.177423Z",
          "iopub.execute_input": "2024-02-05T22:27:18.177716Z",
          "iopub.status.idle": "2024-02-05T22:27:18.183197Z",
          "shell.execute_reply.started": "2024-02-05T22:27:18.17769Z",
          "shell.execute_reply": "2024-02-05T22:27:18.18229Z"
        },
        "trusted": true
      },
      "execution_count": null,
      "outputs": []
    },
    {
      "cell_type": "code",
      "source": [
        "print(\"Training\", evaluate_model(model, X_train))\n",
        "print(\"Testing\", evaluate_model(model, X_test))\n",
        "print(\"Anomaly\", evaluate_model(model, anomaly))"
      ],
      "metadata": {
        "id": "-C47TEWZ_UXW",
        "outputId": "5bc2569a-837a-4969-9bd6-0847e99894d6",
        "execution": {
          "iopub.status.busy": "2024-02-05T22:27:18.184465Z",
          "iopub.execute_input": "2024-02-05T22:27:18.185024Z",
          "iopub.status.idle": "2024-02-05T22:27:19.526798Z",
          "shell.execute_reply.started": "2024-02-05T22:27:18.184968Z",
          "shell.execute_reply": "2024-02-05T22:27:19.525842Z"
        },
        "trusted": true,
        "colab": {
          "base_uri": "https://localhost:8080/"
        }
      },
      "execution_count": null,
      "outputs": [
        {
          "output_type": "stream",
          "name": "stdout",
          "text": [
            "Training Accuracy: 84.79%\n",
            "Testing Accuracy: 84.84%\n",
            "Anomaly Accuracy: 46.90%\n"
          ]
        }
      ]
    },
    {
      "cell_type": "code",
      "source": [
        "def prepare_labels(model, train, test, anomaly, threshold=threshold):\n",
        "    ytrue = np.concatenate((np.ones(len(X_train)+len(X_test), dtype=int), np.zeros(len(anomaly), dtype=int)))\n",
        "    _, train_loss = predict(model, train)\n",
        "    _, test_loss = predict(model, test)\n",
        "    _, anomaly_loss = predict(model, anomaly)\n",
        "    train_pred = (train_loss <= threshold).numpy().astype(int)\n",
        "    test_pred = (test_loss <= threshold).numpy().astype(int)\n",
        "    anomaly_pred = (anomaly_loss < threshold).numpy().astype(int)\n",
        "    ypred = np.concatenate((train_pred, test_pred, anomaly_pred))\n",
        "\n",
        "    return ytrue, ypred"
      ],
      "metadata": {
        "execution": {
          "iopub.status.busy": "2024-02-05T22:27:19.528112Z",
          "iopub.execute_input": "2024-02-05T22:27:19.528433Z",
          "iopub.status.idle": "2024-02-05T22:27:19.535425Z",
          "shell.execute_reply.started": "2024-02-05T22:27:19.528408Z",
          "shell.execute_reply": "2024-02-05T22:27:19.534453Z"
        },
        "trusted": true,
        "id": "RucFKrexEbrC"
      },
      "execution_count": null,
      "outputs": []
    },
    {
      "cell_type": "code",
      "source": [
        "def plot_confusion_matrix(model, train, test, anomaly, threshold=threshold):\n",
        "    ytrue, ypred = prepare_labels(model, train, test, anomaly, threshold=threshold)\n",
        "    accuracy = accuracy_score(ytrue, ypred)\n",
        "    precision = precision_score(ytrue, ypred)\n",
        "    recall = recall_score(ytrue, ypred)\n",
        "    f1 = f1_score(ytrue, ypred)\n",
        "    print(f\"\"\"\\\n",
        "        Accuracy: {accuracy:.2%}\n",
        "        Precision: {precision:.2%}\n",
        "        Recall: {recall:.2%}\n",
        "        f1: {f1:.2%}\\n\n",
        "        \"\"\")\n",
        "\n",
        "    cm = confusion_matrix(ytrue, ypred)\n",
        "    cm_norm = confusion_matrix(ytrue, ypred, normalize=\"true\")\n",
        "    data = np.array([f\"{count}\\n({pct:.2%})\" for count, pct in zip(cm.ravel(), cm_norm.ravel())]).reshape(cm.shape)\n",
        "    labels = [\"Anomaly\", \"Normal\"]\n",
        "\n",
        "    plt.figure(figsize=(5, 4))\n",
        "    sns.heatmap(cm, annot=data, fmt=\"\", xticklabels=labels, yticklabels=labels)\n",
        "    plt.ylabel(\"Actual\")\n",
        "    plt.xlabel(\"Predicted\")\n",
        "    plt.title(\"Confusion Matrix\", weight=\"bold\")\n",
        "    plt.tight_layout()"
      ],
      "metadata": {
        "id": "yznLPafnCPd5",
        "execution": {
          "iopub.status.busy": "2024-02-05T22:27:19.536755Z",
          "iopub.execute_input": "2024-02-05T22:27:19.537684Z",
          "iopub.status.idle": "2024-02-05T22:27:19.550212Z",
          "shell.execute_reply.started": "2024-02-05T22:27:19.537649Z",
          "shell.execute_reply": "2024-02-05T22:27:19.54921Z"
        },
        "trusted": true
      },
      "execution_count": null,
      "outputs": []
    },
    {
      "cell_type": "code",
      "source": [
        "plot_confusion_matrix(model, X_train, X_test, anomaly, threshold=threshold)"
      ],
      "metadata": {
        "id": "LlBGuJUqJLXw",
        "outputId": "dbcad141-664d-4b42-b048-54b0ec21f89c",
        "execution": {
          "iopub.status.busy": "2024-02-05T22:27:19.55325Z",
          "iopub.execute_input": "2024-02-05T22:27:19.553523Z",
          "iopub.status.idle": "2024-02-05T22:27:21.281798Z",
          "shell.execute_reply.started": "2024-02-05T22:27:19.553499Z",
          "shell.execute_reply": "2024-02-05T22:27:21.280885Z"
        },
        "trusted": true,
        "colab": {
          "base_uri": "https://localhost:8080/",
          "height": 511
        }
      },
      "execution_count": null,
      "outputs": [
        {
          "output_type": "stream",
          "name": "stdout",
          "text": [
            "        Accuracy: 57.44%\n",
            "        Precision: 38.08%\n",
            "        Recall: 84.80%\n",
            "        f1: 52.55%\n",
            "\n",
            "        \n"
          ]
        },
        {
          "output_type": "display_data",
          "data": {
            "text/plain": [
              "<Figure size 500x400 with 2 Axes>"
            ],
            "image/png": "[encoded data removed]"
          },
          "metadata": {}
        }
      ]
    },
    {
      "cell_type": "markdown",
      "source": [
        "## Model Evaluation Metrics\n",
        "\n",
        "The following evaluation metrics provide a comprehensive assessment of the performance of our model:\n",
        "\n",
        "- **Accuracy (76.93%)**: Accuracy measures the proportion of correct predictions out of all predictions made by the model, indicating an exceptionally high overall classification correctness.\n",
        "\n",
        "- **Precision (55.23%)**: Precision is the percentage of true positive predictions relative to all positive predictions made by the model, signifying the model's precision in correctly identifying positive instances.\n",
        "\n",
        "- **Recall (89.81%)**: Recall, also known as sensitivity, represents the model's ability to accurately identify positive instances out of all actual positive instances, demonstrating a strong capability to capture true positives.\n",
        "\n",
        "- **F1 Score (65.40%)**: The F1 score is a composite metric that balances precision and recall, providing an overall measure of model performance."
      ],
      "metadata": {
        "id": "lqzV2CvXEbrC"
      }
    },
    {
      "cell_type": "code",
      "source": [
        "ytrue, ypred = prepare_labels(model, X_train, X_test, anomaly, threshold=threshold)\n",
        "print(classification_report(ytrue, ypred, target_names=CLASS_NAMES))"
      ],
      "metadata": {
        "id": "Z1Atf3DbTxCx",
        "execution": {
          "iopub.status.busy": "2024-02-05T22:27:21.283171Z",
          "iopub.execute_input": "2024-02-05T22:27:21.283574Z",
          "iopub.status.idle": "2024-02-05T22:27:22.615879Z",
          "shell.execute_reply.started": "2024-02-05T22:27:21.28354Z",
          "shell.execute_reply": "2024-02-05T22:27:22.614922Z"
        },
        "trusted": true,
        "colab": {
          "base_uri": "https://localhost:8080/"
        },
        "outputId": "247be0a1-b567-47bb-cc91-2549e9f5282e"
      },
      "execution_count": null,
      "outputs": [
        {
          "output_type": "stream",
          "name": "stdout",
          "text": [
            "              precision    recall  f1-score   support\n",
            "\n",
            "      Normal       0.94      0.76      0.84     10505\n",
            "     Anomaly       0.58      0.88      0.70      4045\n",
            "\n",
            "    accuracy                           0.79     14550\n",
            "   macro avg       0.76      0.82      0.77     14550\n",
            "weighted avg       0.84      0.79      0.80     14550\n",
            "\n"
          ]
        }
      ]
    },
    {
      "cell_type": "markdown",
      "source": [
        "Thank you for taking the time to explore my notebook and delve into the world of data science with me. Your interest and engagement are greatly appreciated, and I hope you found valuable insights and inspiration within these pages."
      ],
      "metadata": {
        "id": "zkr_8TmtEbrG"
      }
    }
  ]
}